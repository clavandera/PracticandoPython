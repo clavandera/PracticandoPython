{
  "nbformat": 4,
  "nbformat_minor": 0,
  "metadata": {
    "colab": {
      "provenance": []
    },
    "kernelspec": {
      "name": "python3",
      "display_name": "Python 3"
    },
    "language_info": {
      "name": "python"
    }
  },
  "cells": [
    {
      "cell_type": "markdown",
      "source": [
        "### Importación de datos\n",
        "\n"
      ],
      "metadata": {
        "id": "RhEdWd9YUR6H"
      }
    },
    {
      "cell_type": "code",
      "execution_count": 3,
      "metadata": {
        "colab": {
          "base_uri": "https://localhost:8080/",
          "height": 310
        },
        "id": "T3EvaeQ_INIL",
        "outputId": "a7940d90-017e-427c-a1df-216fb99475b8"
      },
      "outputs": [
        {
          "output_type": "execute_result",
          "data": {
            "text/plain": [
              "            Producto Categoría del Producto    Precio  Costo de envío  \\\n",
              "0  Asistente virtual           Electrónicos  164300.0          6900.0   \n",
              "1    Mesa de comedor                Muebles  192300.0          8400.0   \n",
              "2      Juego de mesa               Juguetes  209600.0         15900.0   \n",
              "3         Microondas      Electrodomésticos  757500.0         41000.0   \n",
              "4   Silla de oficina                Muebles  335200.0         20200.0   \n",
              "\n",
              "  Fecha de Compra         Vendedor Lugar de Compra  Calificación  \\\n",
              "0      16/01/2021      Pedro Gomez          Bogotá             4   \n",
              "1      18/05/2022  Beatriz Morales        Medellín             1   \n",
              "2      15/03/2021   Juan Fernandez       Cartagena             1   \n",
              "3      03/05/2022   Juan Fernandez            Cali             4   \n",
              "4      07/11/2020    Maria Alfonso        Medellín             5   \n",
              "\n",
              "       Método de pago  Cantidad de cuotas       lat       lon  \n",
              "0  Tarjeta de crédito                   8   4.60971 -74.08175  \n",
              "1  Tarjeta de crédito                   4   6.25184 -75.56359  \n",
              "2  Tarjeta de crédito                   1  10.39972 -75.51444  \n",
              "3               Nequi                   1   3.43722 -76.52250  \n",
              "4               Nequi                   1   6.25184 -75.56359  "
            ],
            "text/html": [
              "\n",
              "  <div id=\"df-1a9aa6ce-61b3-40b8-b67d-bcd22052b304\" class=\"colab-df-container\">\n",
              "    <div>\n",
              "<style scoped>\n",
              "    .dataframe tbody tr th:only-of-type {\n",
              "        vertical-align: middle;\n",
              "    }\n",
              "\n",
              "    .dataframe tbody tr th {\n",
              "        vertical-align: top;\n",
              "    }\n",
              "\n",
              "    .dataframe thead th {\n",
              "        text-align: right;\n",
              "    }\n",
              "</style>\n",
              "<table border=\"1\" class=\"dataframe\">\n",
              "  <thead>\n",
              "    <tr style=\"text-align: right;\">\n",
              "      <th></th>\n",
              "      <th>Producto</th>\n",
              "      <th>Categoría del Producto</th>\n",
              "      <th>Precio</th>\n",
              "      <th>Costo de envío</th>\n",
              "      <th>Fecha de Compra</th>\n",
              "      <th>Vendedor</th>\n",
              "      <th>Lugar de Compra</th>\n",
              "      <th>Calificación</th>\n",
              "      <th>Método de pago</th>\n",
              "      <th>Cantidad de cuotas</th>\n",
              "      <th>lat</th>\n",
              "      <th>lon</th>\n",
              "    </tr>\n",
              "  </thead>\n",
              "  <tbody>\n",
              "    <tr>\n",
              "      <th>0</th>\n",
              "      <td>Asistente virtual</td>\n",
              "      <td>Electrónicos</td>\n",
              "      <td>164300.0</td>\n",
              "      <td>6900.0</td>\n",
              "      <td>16/01/2021</td>\n",
              "      <td>Pedro Gomez</td>\n",
              "      <td>Bogotá</td>\n",
              "      <td>4</td>\n",
              "      <td>Tarjeta de crédito</td>\n",
              "      <td>8</td>\n",
              "      <td>4.60971</td>\n",
              "      <td>-74.08175</td>\n",
              "    </tr>\n",
              "    <tr>\n",
              "      <th>1</th>\n",
              "      <td>Mesa de comedor</td>\n",
              "      <td>Muebles</td>\n",
              "      <td>192300.0</td>\n",
              "      <td>8400.0</td>\n",
              "      <td>18/05/2022</td>\n",
              "      <td>Beatriz Morales</td>\n",
              "      <td>Medellín</td>\n",
              "      <td>1</td>\n",
              "      <td>Tarjeta de crédito</td>\n",
              "      <td>4</td>\n",
              "      <td>6.25184</td>\n",
              "      <td>-75.56359</td>\n",
              "    </tr>\n",
              "    <tr>\n",
              "      <th>2</th>\n",
              "      <td>Juego de mesa</td>\n",
              "      <td>Juguetes</td>\n",
              "      <td>209600.0</td>\n",
              "      <td>15900.0</td>\n",
              "      <td>15/03/2021</td>\n",
              "      <td>Juan Fernandez</td>\n",
              "      <td>Cartagena</td>\n",
              "      <td>1</td>\n",
              "      <td>Tarjeta de crédito</td>\n",
              "      <td>1</td>\n",
              "      <td>10.39972</td>\n",
              "      <td>-75.51444</td>\n",
              "    </tr>\n",
              "    <tr>\n",
              "      <th>3</th>\n",
              "      <td>Microondas</td>\n",
              "      <td>Electrodomésticos</td>\n",
              "      <td>757500.0</td>\n",
              "      <td>41000.0</td>\n",
              "      <td>03/05/2022</td>\n",
              "      <td>Juan Fernandez</td>\n",
              "      <td>Cali</td>\n",
              "      <td>4</td>\n",
              "      <td>Nequi</td>\n",
              "      <td>1</td>\n",
              "      <td>3.43722</td>\n",
              "      <td>-76.52250</td>\n",
              "    </tr>\n",
              "    <tr>\n",
              "      <th>4</th>\n",
              "      <td>Silla de oficina</td>\n",
              "      <td>Muebles</td>\n",
              "      <td>335200.0</td>\n",
              "      <td>20200.0</td>\n",
              "      <td>07/11/2020</td>\n",
              "      <td>Maria Alfonso</td>\n",
              "      <td>Medellín</td>\n",
              "      <td>5</td>\n",
              "      <td>Nequi</td>\n",
              "      <td>1</td>\n",
              "      <td>6.25184</td>\n",
              "      <td>-75.56359</td>\n",
              "    </tr>\n",
              "  </tbody>\n",
              "</table>\n",
              "</div>\n",
              "    <div class=\"colab-df-buttons\">\n",
              "\n",
              "  <div class=\"colab-df-container\">\n",
              "    <button class=\"colab-df-convert\" onclick=\"convertToInteractive('df-1a9aa6ce-61b3-40b8-b67d-bcd22052b304')\"\n",
              "            title=\"Convert this dataframe to an interactive table.\"\n",
              "            style=\"display:none;\">\n",
              "\n",
              "  <svg xmlns=\"http://www.w3.org/2000/svg\" height=\"24px\" viewBox=\"0 -960 960 960\">\n",
              "    <path d=\"M120-120v-720h720v720H120Zm60-500h600v-160H180v160Zm220 220h160v-160H400v160Zm0 220h160v-160H400v160ZM180-400h160v-160H180v160Zm440 0h160v-160H620v160ZM180-180h160v-160H180v160Zm440 0h160v-160H620v160Z\"/>\n",
              "  </svg>\n",
              "    </button>\n",
              "\n",
              "  <style>\n",
              "    .colab-df-container {\n",
              "      display:flex;\n",
              "      gap: 12px;\n",
              "    }\n",
              "\n",
              "    .colab-df-convert {\n",
              "      background-color: #E8F0FE;\n",
              "      border: none;\n",
              "      border-radius: 50%;\n",
              "      cursor: pointer;\n",
              "      display: none;\n",
              "      fill: #1967D2;\n",
              "      height: 32px;\n",
              "      padding: 0 0 0 0;\n",
              "      width: 32px;\n",
              "    }\n",
              "\n",
              "    .colab-df-convert:hover {\n",
              "      background-color: #E2EBFA;\n",
              "      box-shadow: 0px 1px 2px rgba(60, 64, 67, 0.3), 0px 1px 3px 1px rgba(60, 64, 67, 0.15);\n",
              "      fill: #174EA6;\n",
              "    }\n",
              "\n",
              "    .colab-df-buttons div {\n",
              "      margin-bottom: 4px;\n",
              "    }\n",
              "\n",
              "    [theme=dark] .colab-df-convert {\n",
              "      background-color: #3B4455;\n",
              "      fill: #D2E3FC;\n",
              "    }\n",
              "\n",
              "    [theme=dark] .colab-df-convert:hover {\n",
              "      background-color: #434B5C;\n",
              "      box-shadow: 0px 1px 3px 1px rgba(0, 0, 0, 0.15);\n",
              "      filter: drop-shadow(0px 1px 2px rgba(0, 0, 0, 0.3));\n",
              "      fill: #FFFFFF;\n",
              "    }\n",
              "  </style>\n",
              "\n",
              "    <script>\n",
              "      const buttonEl =\n",
              "        document.querySelector('#df-1a9aa6ce-61b3-40b8-b67d-bcd22052b304 button.colab-df-convert');\n",
              "      buttonEl.style.display =\n",
              "        google.colab.kernel.accessAllowed ? 'block' : 'none';\n",
              "\n",
              "      async function convertToInteractive(key) {\n",
              "        const element = document.querySelector('#df-1a9aa6ce-61b3-40b8-b67d-bcd22052b304');\n",
              "        const dataTable =\n",
              "          await google.colab.kernel.invokeFunction('convertToInteractive',\n",
              "                                                    [key], {});\n",
              "        if (!dataTable) return;\n",
              "\n",
              "        const docLinkHtml = 'Like what you see? Visit the ' +\n",
              "          '<a target=\"_blank\" href=https://colab.research.google.com/notebooks/data_table.ipynb>data table notebook</a>'\n",
              "          + ' to learn more about interactive tables.';\n",
              "        element.innerHTML = '';\n",
              "        dataTable['output_type'] = 'display_data';\n",
              "        await google.colab.output.renderOutput(dataTable, element);\n",
              "        const docLink = document.createElement('div');\n",
              "        docLink.innerHTML = docLinkHtml;\n",
              "        element.appendChild(docLink);\n",
              "      }\n",
              "    </script>\n",
              "  </div>\n",
              "\n",
              "\n",
              "    <div id=\"df-c8b148e8-6883-4581-b74a-5a00eb92f4dd\">\n",
              "      <button class=\"colab-df-quickchart\" onclick=\"quickchart('df-c8b148e8-6883-4581-b74a-5a00eb92f4dd')\"\n",
              "                title=\"Suggest charts\"\n",
              "                style=\"display:none;\">\n",
              "\n",
              "<svg xmlns=\"http://www.w3.org/2000/svg\" height=\"24px\"viewBox=\"0 0 24 24\"\n",
              "     width=\"24px\">\n",
              "    <g>\n",
              "        <path d=\"M19 3H5c-1.1 0-2 .9-2 2v14c0 1.1.9 2 2 2h14c1.1 0 2-.9 2-2V5c0-1.1-.9-2-2-2zM9 17H7v-7h2v7zm4 0h-2V7h2v10zm4 0h-2v-4h2v4z\"/>\n",
              "    </g>\n",
              "</svg>\n",
              "      </button>\n",
              "\n",
              "<style>\n",
              "  .colab-df-quickchart {\n",
              "      --bg-color: #E8F0FE;\n",
              "      --fill-color: #1967D2;\n",
              "      --hover-bg-color: #E2EBFA;\n",
              "      --hover-fill-color: #174EA6;\n",
              "      --disabled-fill-color: #AAA;\n",
              "      --disabled-bg-color: #DDD;\n",
              "  }\n",
              "\n",
              "  [theme=dark] .colab-df-quickchart {\n",
              "      --bg-color: #3B4455;\n",
              "      --fill-color: #D2E3FC;\n",
              "      --hover-bg-color: #434B5C;\n",
              "      --hover-fill-color: #FFFFFF;\n",
              "      --disabled-bg-color: #3B4455;\n",
              "      --disabled-fill-color: #666;\n",
              "  }\n",
              "\n",
              "  .colab-df-quickchart {\n",
              "    background-color: var(--bg-color);\n",
              "    border: none;\n",
              "    border-radius: 50%;\n",
              "    cursor: pointer;\n",
              "    display: none;\n",
              "    fill: var(--fill-color);\n",
              "    height: 32px;\n",
              "    padding: 0;\n",
              "    width: 32px;\n",
              "  }\n",
              "\n",
              "  .colab-df-quickchart:hover {\n",
              "    background-color: var(--hover-bg-color);\n",
              "    box-shadow: 0 1px 2px rgba(60, 64, 67, 0.3), 0 1px 3px 1px rgba(60, 64, 67, 0.15);\n",
              "    fill: var(--button-hover-fill-color);\n",
              "  }\n",
              "\n",
              "  .colab-df-quickchart-complete:disabled,\n",
              "  .colab-df-quickchart-complete:disabled:hover {\n",
              "    background-color: var(--disabled-bg-color);\n",
              "    fill: var(--disabled-fill-color);\n",
              "    box-shadow: none;\n",
              "  }\n",
              "\n",
              "  .colab-df-spinner {\n",
              "    border: 2px solid var(--fill-color);\n",
              "    border-color: transparent;\n",
              "    border-bottom-color: var(--fill-color);\n",
              "    animation:\n",
              "      spin 1s steps(1) infinite;\n",
              "  }\n",
              "\n",
              "  @keyframes spin {\n",
              "    0% {\n",
              "      border-color: transparent;\n",
              "      border-bottom-color: var(--fill-color);\n",
              "      border-left-color: var(--fill-color);\n",
              "    }\n",
              "    20% {\n",
              "      border-color: transparent;\n",
              "      border-left-color: var(--fill-color);\n",
              "      border-top-color: var(--fill-color);\n",
              "    }\n",
              "    30% {\n",
              "      border-color: transparent;\n",
              "      border-left-color: var(--fill-color);\n",
              "      border-top-color: var(--fill-color);\n",
              "      border-right-color: var(--fill-color);\n",
              "    }\n",
              "    40% {\n",
              "      border-color: transparent;\n",
              "      border-right-color: var(--fill-color);\n",
              "      border-top-color: var(--fill-color);\n",
              "    }\n",
              "    60% {\n",
              "      border-color: transparent;\n",
              "      border-right-color: var(--fill-color);\n",
              "    }\n",
              "    80% {\n",
              "      border-color: transparent;\n",
              "      border-right-color: var(--fill-color);\n",
              "      border-bottom-color: var(--fill-color);\n",
              "    }\n",
              "    90% {\n",
              "      border-color: transparent;\n",
              "      border-bottom-color: var(--fill-color);\n",
              "    }\n",
              "  }\n",
              "</style>\n",
              "\n",
              "      <script>\n",
              "        async function quickchart(key) {\n",
              "          const quickchartButtonEl =\n",
              "            document.querySelector('#' + key + ' button');\n",
              "          quickchartButtonEl.disabled = true;  // To prevent multiple clicks.\n",
              "          quickchartButtonEl.classList.add('colab-df-spinner');\n",
              "          try {\n",
              "            const charts = await google.colab.kernel.invokeFunction(\n",
              "                'suggestCharts', [key], {});\n",
              "          } catch (error) {\n",
              "            console.error('Error during call to suggestCharts:', error);\n",
              "          }\n",
              "          quickchartButtonEl.classList.remove('colab-df-spinner');\n",
              "          quickchartButtonEl.classList.add('colab-df-quickchart-complete');\n",
              "        }\n",
              "        (() => {\n",
              "          let quickchartButtonEl =\n",
              "            document.querySelector('#df-c8b148e8-6883-4581-b74a-5a00eb92f4dd button');\n",
              "          quickchartButtonEl.style.display =\n",
              "            google.colab.kernel.accessAllowed ? 'block' : 'none';\n",
              "        })();\n",
              "      </script>\n",
              "    </div>\n",
              "\n",
              "    </div>\n",
              "  </div>\n"
            ],
            "application/vnd.google.colaboratory.intrinsic+json": {
              "type": "dataframe",
              "variable_name": "tienda",
              "summary": "{\n  \"name\": \"tienda\",\n  \"rows\": 2359,\n  \"fields\": [\n    {\n      \"column\": \"Producto\",\n      \"properties\": {\n        \"dtype\": \"category\",\n        \"num_unique_values\": 51,\n        \"samples\": [\n          \"Guitarra ac\\u00fastica\",\n          \"Bal\\u00f3n de baloncesto\",\n          \"Smartwatch\"\n        ],\n        \"semantic_type\": \"\",\n        \"description\": \"\"\n      }\n    },\n    {\n      \"column\": \"Categor\\u00eda del Producto\",\n      \"properties\": {\n        \"dtype\": \"category\",\n        \"num_unique_values\": 8,\n        \"samples\": [\n          \"Muebles\",\n          \"Deportes y diversi\\u00f3n\",\n          \"Electr\\u00f3nicos\"\n        ],\n        \"semantic_type\": \"\",\n        \"description\": \"\"\n      }\n    },\n    {\n      \"column\": \"Precio\",\n      \"properties\": {\n        \"dtype\": \"number\",\n        \"std\": 614686.7653873172,\n        \"min\": 7600.0,\n        \"max\": 2977000.0,\n        \"num_unique_values\": 1937,\n        \"samples\": [\n          2499400.0,\n          14800.0,\n          80500.0\n        ],\n        \"semantic_type\": \"\",\n        \"description\": \"\"\n      }\n    },\n    {\n      \"column\": \"Costo de env\\u00edo\",\n      \"properties\": {\n        \"dtype\": \"number\",\n        \"std\": 32860.0017825605,\n        \"min\": 0.0,\n        \"max\": 160800.0,\n        \"num_unique_values\": 753,\n        \"samples\": [\n          117800.0,\n          54700.0,\n          45600.0\n        ],\n        \"semantic_type\": \"\",\n        \"description\": \"\"\n      }\n    },\n    {\n      \"column\": \"Fecha de Compra\",\n      \"properties\": {\n        \"dtype\": \"object\",\n        \"num_unique_values\": 1018,\n        \"samples\": [\n          \"15/09/2022\",\n          \"03/06/2020\",\n          \"06/11/2021\"\n        ],\n        \"semantic_type\": \"\",\n        \"description\": \"\"\n      }\n    },\n    {\n      \"column\": \"Vendedor\",\n      \"properties\": {\n        \"dtype\": \"category\",\n        \"num_unique_values\": 14,\n        \"samples\": [\n          \"Juliana Costa\",\n          \"Mariana Herrera\",\n          \"Pedro Gomez\"\n        ],\n        \"semantic_type\": \"\",\n        \"description\": \"\"\n      }\n    },\n    {\n      \"column\": \"Lugar de Compra\",\n      \"properties\": {\n        \"dtype\": \"category\",\n        \"num_unique_values\": 19,\n        \"samples\": [\n          \"Bogot\\u00e1\",\n          \"Pereira\",\n          \"Neiva\"\n        ],\n        \"semantic_type\": \"\",\n        \"description\": \"\"\n      }\n    },\n    {\n      \"column\": \"Calificaci\\u00f3n\",\n      \"properties\": {\n        \"dtype\": \"number\",\n        \"std\": 1,\n        \"min\": 1,\n        \"max\": 5,\n        \"num_unique_values\": 5,\n        \"samples\": [\n          1,\n          2,\n          5\n        ],\n        \"semantic_type\": \"\",\n        \"description\": \"\"\n      }\n    },\n    {\n      \"column\": \"M\\u00e9todo de pago\",\n      \"properties\": {\n        \"dtype\": \"category\",\n        \"num_unique_values\": 4,\n        \"samples\": [\n          \"Nequi\",\n          \"Tarjeta de d\\u00e9bito\",\n          \"Tarjeta de cr\\u00e9dito\"\n        ],\n        \"semantic_type\": \"\",\n        \"description\": \"\"\n      }\n    },\n    {\n      \"column\": \"Cantidad de cuotas\",\n      \"properties\": {\n        \"dtype\": \"number\",\n        \"std\": 2,\n        \"min\": 1,\n        \"max\": 24,\n        \"num_unique_values\": 15,\n        \"samples\": [\n          7,\n          14,\n          8\n        ],\n        \"semantic_type\": \"\",\n        \"description\": \"\"\n      }\n    },\n    {\n      \"column\": \"lat\",\n      \"properties\": {\n        \"dtype\": \"number\",\n        \"std\": 2.2874452492678627,\n        \"min\": -4.21528,\n        \"max\": 11.54444,\n        \"num_unique_values\": 19,\n        \"samples\": [\n          4.60971,\n          4.81333,\n          2.9273\n        ],\n        \"semantic_type\": \"\",\n        \"description\": \"\"\n      }\n    },\n    {\n      \"column\": \"lon\",\n      \"properties\": {\n        \"dtype\": \"number\",\n        \"std\": 1.2178272727088486,\n        \"min\": -77.28111,\n        \"max\": -67.9239,\n        \"num_unique_values\": 19,\n        \"samples\": [\n          -74.08175,\n          -75.69611,\n          -75.28189\n        ],\n        \"semantic_type\": \"\",\n        \"description\": \"\"\n      }\n    }\n  ]\n}"
            }
          },
          "metadata": {},
          "execution_count": 3
        }
      ],
      "source": [
        "import pandas as pd\n",
        "\n",
        "url = \"https://raw.githubusercontent.com/alura-es-cursos/challenge1-data-science-latam/refs/heads/main/base-de-datos-challenge1-latam/tienda_1%20.csv\"\n",
        "url2 = \"https://raw.githubusercontent.com/alura-es-cursos/challenge1-data-science-latam/refs/heads/main/base-de-datos-challenge1-latam/tienda_2.csv\"\n",
        "url3 = \"https://raw.githubusercontent.com/alura-es-cursos/challenge1-data-science-latam/refs/heads/main/base-de-datos-challenge1-latam/tienda_3.csv\"\n",
        "url4 = \"https://raw.githubusercontent.com/alura-es-cursos/challenge1-data-science-latam/refs/heads/main/base-de-datos-challenge1-latam/tienda_4.csv\"\n",
        "\n",
        "tienda = pd.read_csv(url)\n",
        "tienda2 = pd.read_csv(url2)\n",
        "tienda3 = pd.read_csv(url3)\n",
        "tienda4 = pd.read_csv(url4)\n",
        "\n",
        "tienda.head()"
      ]
    },
    {
      "cell_type": "markdown",
      "source": [
        "#1. Análisis de facturación\n",
        "\n"
      ],
      "metadata": {
        "id": "X62IW3KFUIYm"
      }
    },
    {
      "cell_type": "code",
      "source": [
        "tienda.info()"
      ],
      "metadata": {
        "colab": {
          "base_uri": "https://localhost:8080/"
        },
        "id": "KIvJPb9Ypa1C",
        "outputId": "e577fb85-c7e1-4a46-f1b5-f2084cae23e9"
      },
      "execution_count": null,
      "outputs": [
        {
          "output_type": "stream",
          "name": "stdout",
          "text": [
            "<class 'pandas.core.frame.DataFrame'>\n",
            "RangeIndex: 2359 entries, 0 to 2358\n",
            "Data columns (total 12 columns):\n",
            " #   Column                  Non-Null Count  Dtype  \n",
            "---  ------                  --------------  -----  \n",
            " 0   Producto                2359 non-null   object \n",
            " 1   Categoría del Producto  2359 non-null   object \n",
            " 2   Precio                  2359 non-null   float64\n",
            " 3   Costo de envío          2359 non-null   float64\n",
            " 4   Fecha de Compra         2359 non-null   object \n",
            " 5   Vendedor                2359 non-null   object \n",
            " 6   Lugar de Compra         2359 non-null   object \n",
            " 7   Calificación            2359 non-null   int64  \n",
            " 8   Método de pago          2359 non-null   object \n",
            " 9   Cantidad de cuotas      2359 non-null   int64  \n",
            " 10  lat                     2359 non-null   float64\n",
            " 11  lon                     2359 non-null   float64\n",
            "dtypes: float64(4), int64(2), object(6)\n",
            "memory usage: 221.3+ KB\n"
          ]
        }
      ]
    },
    {
      "cell_type": "code",
      "source": [
        "ingr_total_tienda1 = tienda['Precio'].sum()\n",
        "ingr_total_tienda2 = tienda2['Precio'].sum()\n",
        "ingr_total_tienda3 = tienda3['Precio'].sum()\n",
        "ingr_total_tienda4 = tienda4['Precio'].sum()\n",
        "\n",
        "print(f'El ingreso total de la tienda 1 fue de: {ingr_total_tienda1}.')\n",
        "print(f'El ingreso total de la tienda 2 fue de: {ingr_total_tienda2}.')\n",
        "print(f'El ingreso total de la tienda 3 fue de: {ingr_total_tienda3}.')\n",
        "print(f'El ingreso total de la tienda 4 fue de: {ingr_total_tienda4}.')"
      ],
      "metadata": {
        "id": "xykobSftV64I",
        "colab": {
          "base_uri": "https://localhost:8080/"
        },
        "outputId": "af87e09f-9af9-470f-9bd4-767be0d1336e"
      },
      "execution_count": null,
      "outputs": [
        {
          "output_type": "stream",
          "name": "stdout",
          "text": [
            "El ingreso total de la tienda 1 fue de: 1150880400.0.\n",
            "El ingreso total de la tienda 2 fue de: 1116343500.0.\n",
            "El ingreso total de la tienda 3 fue de: 1098019600.0.\n",
            "El ingreso total de la tienda 4 fue de: 1038375700.0.\n"
          ]
        }
      ]
    },
    {
      "cell_type": "code",
      "source": [
        "#importo la biblioteca para los gráficos\n",
        "from matplotlib import pyplot as plt"
      ],
      "metadata": {
        "id": "KDyr8E71V3m-"
      },
      "execution_count": null,
      "outputs": []
    },
    {
      "cell_type": "code",
      "source": [
        "Tiendas = ['Tienda 1', 'Tienda 2', 'Tienda 3', 'Tienda 4']\n",
        "Ingresos = [ingr_total_tienda1, ingr_total_tienda2, ingr_total_tienda3, ingr_total_tienda4]"
      ],
      "metadata": {
        "id": "FKK0EzBLt-Aj"
      },
      "execution_count": null,
      "outputs": []
    },
    {
      "cell_type": "code",
      "source": [
        "plt.bar(Tiendas, Ingresos)\n",
        "plt.show()"
      ],
      "metadata": {
        "colab": {
          "base_uri": "https://localhost:8080/",
          "height": 445
        },
        "id": "FHxnZ0kNvEYD",
        "outputId": "04ced254-c02e-448b-c708-6a3ab88fe646"
      },
      "execution_count": null,
      "outputs": [
        {
          "output_type": "display_data",
          "data": {
            "text/plain": [
              "<Figure size 640x480 with 1 Axes>"
            ],
            "image/png": "[encoded data removed]"
          },
          "metadata": {}
        }
      ]
    },
    {
      "cell_type": "markdown",
      "source": [
        "# 2. Ventas por categoría"
      ],
      "metadata": {
        "id": "2V_vcAPzWZmR"
      }
    },
    {
      "cell_type": "code",
      "source": [
        "# Iterar sobre cada URL y generar una tabla para cada tienda\n",
        "for tienda, nombre in zip([tienda, tienda2, tienda3, tienda4], ['tienda_1', 'tienda_2', 'tienda_3', 'tienda_4']):\n",
        "  df = pd.read_csv(url)\n",
        "  suma_por_producto = tienda.groupby('Categoría del Producto')['Precio'].sum().reset_index().sort_values(by='Precio', ascending=False)\n",
        "\n",
        "  print(f'Ventas agrupadas por Categoría de la Tienda {nombre}:')\n",
        "  print(suma_por_producto)\n",
        "  print('\\n')\n"
      ],
      "metadata": {
        "colab": {
          "base_uri": "https://localhost:8080/"
        },
        "id": "iHaS8MTTbuqJ",
        "outputId": "4e176831-18ca-414f-d3d6-393bf89e9b6c"
      },
      "execution_count": null,
      "outputs": [
        {
          "output_type": "stream",
          "name": "stdout",
          "text": [
            "Ventas agrupadas por Categoría de la Tienda tienda_1:\n",
            "    Categoría del Producto       Precio\n",
            "3             Electrónicos  409476100.0\n",
            "2        Electrodomésticos  283260200.0\n",
            "7                  Muebles  192528900.0\n",
            "4   Instrumentos musicales   75102400.0\n",
            "1     Deportes y diversión   33350100.0\n",
            "5                 Juguetes   20262200.0\n",
            "0  Artículos para el hogar   15074500.0\n",
            "6                   Libros    9321300.0\n",
            "\n",
            "\n",
            "Ventas agrupadas por Categoría de la Tienda tienda_2:\n",
            "    Categoría del Producto       Precio\n",
            "3             Electrónicos  410831100.0\n",
            "2        Electrodomésticos  348567800.0\n",
            "7                  Muebles  176426300.0\n",
            "4   Instrumentos musicales  104990300.0\n",
            "1     Deportes y diversión   34744500.0\n",
            "5                 Juguetes   15945400.0\n",
            "0  Artículos para el hogar   14746900.0\n",
            "6                   Libros   10091200.0\n",
            "\n",
            "\n",
            "Ventas agrupadas por Categoría de la Tienda tienda_3:\n",
            "    Categoría del Producto       Precio\n",
            "3             Electrónicos  410775800.0\n",
            "2        Electrodomésticos  329237900.0\n",
            "7                  Muebles  201072100.0\n",
            "4   Instrumentos musicales   77380900.0\n",
            "1     Deportes y diversión   35593100.0\n",
            "5                 Juguetes   19401100.0\n",
            "0  Artículos para el hogar   15060000.0\n",
            "6                   Libros    9498700.0\n",
            "\n",
            "\n",
            "Ventas agrupadas por Categoría de la Tienda tienda_4:\n",
            "    Categoría del Producto       Precio\n",
            "3             Electrónicos  409476100.0\n",
            "2        Electrodomésticos  283260200.0\n",
            "7                  Muebles  192528900.0\n",
            "4   Instrumentos musicales   75102400.0\n",
            "1     Deportes y diversión   33350100.0\n",
            "5                 Juguetes   20262200.0\n",
            "0  Artículos para el hogar   15074500.0\n",
            "6                   Libros    9321300.0\n",
            "\n",
            "\n"
          ]
        }
      ]
    },
    {
      "cell_type": "markdown",
      "source": [
        "# 3. Calificación promedio de la tienda\n"
      ],
      "metadata": {
        "id": "Rq6tU_xSY3jk"
      }
    },
    {
      "cell_type": "code",
      "source": [
        "import matplotlib.pyplot as plt\n",
        "\n",
        "urls_tienda = {'tienda 1': url, 'tienda 2': url2, 'tienda 3': url3, 'tienda 4': url4}\n",
        "\n",
        "#Almacenamos el resultado en listas\n",
        "\n",
        "calificaciones_promedio = []\n",
        "\n",
        "#calculamos promedio\n",
        "for nombre_tienda, url_tienda in urls_tienda.items():\n",
        "    df = pd.read_csv(url_tienda)\n",
        "    promedio = df['Calificación'].mean()\n",
        "    calificaciones_promedio.append({'Tienda': nombre_tienda, 'Calificación Promedio': promedio})\n",
        "\n",
        "    #ordenamos\n",
        "    df_calificaciones = pd.DataFrame(calificaciones_promedio).sort_values(by='Calificación Promedio', ascending=False)\n",
        "\n",
        "    # mostrar tabla\n",
        "    print(df_calificaciones)\n"
      ],
      "metadata": {
        "id": "bh3jjjJwY5MU",
        "colab": {
          "base_uri": "https://localhost:8080/"
        },
        "outputId": "1e982983-e344-43a0-e2f6-47412f1b1bc0"
      },
      "execution_count": 7,
      "outputs": [
        {
          "output_type": "stream",
          "name": "stdout",
          "text": [
            "     Tienda  Calificación Promedio\n",
            "0  tienda 1               3.976685\n",
            "     Tienda  Calificación Promedio\n",
            "1  tienda 2               4.037304\n",
            "0  tienda 1               3.976685\n",
            "     Tienda  Calificación Promedio\n",
            "2  tienda 3               4.048326\n",
            "1  tienda 2               4.037304\n",
            "0  tienda 1               3.976685\n",
            "     Tienda  Calificación Promedio\n",
            "2  tienda 3               4.048326\n",
            "1  tienda 2               4.037304\n",
            "3  tienda 4               3.995759\n",
            "0  tienda 1               3.976685\n"
          ]
        }
      ]
    },
    {
      "cell_type": "code",
      "source": [],
      "metadata": {
        "id": "I0KkjPoTY88F"
      },
      "execution_count": null,
      "outputs": []
    },
    {
      "cell_type": "markdown",
      "source": [
        "# 4. Productos más y menos vendidos"
      ],
      "metadata": {
        "id": "DmNp1KPBZCm-"
      }
    },
    {
      "cell_type": "code",
      "source": [
        "import matplotlib.pyplot as plt\n",
        "\n",
        "urls_tiendas = {\n",
        "    'Tienda 1': url,\n",
        "    'Tienda 2': url2,\n",
        "    'Tienda 3': url3,\n",
        "    'Tienda 4': url4\n",
        "}\n",
        "\n",
        "# Iterar sobre cada tienda y generar top 5 productos más vendidos\n",
        "for nombre_tienda, url in urls_tiendas.items():\n",
        "    # Leer los datos\n",
        "    df = pd.read_csv(url)\n",
        "\n",
        "    # Agrupar por producto y sumar el total vendido (por precio)\n",
        "    top_5 = (\n",
        "        df.groupby('Producto')['Precio']\n",
        "        .sum()\n",
        "        .nlargest(5)\n",
        "        .reset_index()\n",
        "    )\n",
        "\n",
        "    # Mostrar tabla\n",
        "    print(f\"\\n Top 5 productos más vendidos en {nombre_tienda}:\")\n",
        "    print(top_5)\n",
        "\n",
        " # Grafico\n",
        "\n",
        "    plt.bar(top_5['Producto'], top_5['Precio'])\n",
        "    plt.xlabel('Producto')\n",
        "    plt.ylabel('Total Vendido')\n",
        "    plt.title(f'Top 5 productos más vendidos en {nombre_tienda}')\n",
        "    plt.show()"
      ],
      "metadata": {
        "id": "qoyjqijQZHfF",
        "colab": {
          "base_uri": "https://localhost:8080/",
          "height": 1000
        },
        "outputId": "ac972d38-f205-4935-dd4d-54999b8d537d"
      },
      "execution_count": null,
      "outputs": [
        {
          "output_type": "stream",
          "name": "stdout",
          "text": [
            "\n",
            " Top 5 productos más vendidos en Tienda 1:\n",
            "        Producto      Precio\n",
            "0      Iphone 15  96697500.0\n",
            "1  TV LED UHD 4K  90295300.0\n",
            "2       Smart TV  82790400.0\n",
            "3   Refrigerador  75271900.0\n",
            "4    Tablet ABXY  56723100.0\n"
          ]
        },
        {
          "output_type": "display_data",
          "data": {
            "text/plain": [
              "<Figure size 640x480 with 1 Axes>"
            ],
            "image/png": "[encoded data removed]"
          },
          "metadata": {}
        },
        {
          "output_type": "stream",
          "name": "stdout",
          "text": [
            "\n",
            " Top 5 productos más vendidos en Tienda 2:\n",
            "           Producto       Precio\n",
            "0         Iphone 15  113225800.0\n",
            "1     TV LED UHD 4K  103375000.0\n",
            "2      Refrigerador   97632500.0\n",
            "3  Lavadora de ropa   66762300.0\n",
            "4          Smart TV   61142000.0\n"
          ]
        },
        {
          "output_type": "display_data",
          "data": {
            "text/plain": [
              "<Figure size 640x480 with 1 Axes>"
            ],
            "image/png": "[encoded data removed]"
          },
          "metadata": {}
        },
        {
          "output_type": "stream",
          "name": "stdout",
          "text": [
            "\n",
            " Top 5 productos más vendidos en Tienda 3:\n",
            "        Producto      Precio\n",
            "0   Refrigerador  99889700.0\n",
            "1  TV LED UHD 4K  96669100.0\n",
            "2      Iphone 15  93225700.0\n",
            "3       Smart TV  78837300.0\n",
            "4   Lavavajillas  64364800.0\n"
          ]
        },
        {
          "output_type": "display_data",
          "data": {
            "text/plain": [
              "<Figure size 640x480 with 1 Axes>"
            ],
            "image/png": "[encoded data removed]"
          },
          "metadata": {}
        },
        {
          "output_type": "stream",
          "name": "stdout",
          "text": [
            "\n",
            " Top 5 productos más vendidos en Tienda 4:\n",
            "        Producto      Precio\n",
            "0      Iphone 15  96697500.0\n",
            "1  TV LED UHD 4K  90295300.0\n",
            "2       Smart TV  82790400.0\n",
            "3   Refrigerador  75271900.0\n",
            "4    Tablet ABXY  56723100.0\n"
          ]
        },
        {
          "output_type": "display_data",
          "data": {
            "text/plain": [
              "<Figure size 640x480 with 1 Axes>"
            ],
            "image/png": "[encoded data removed]"
          },
          "metadata": {}
        }
      ]
    },
    {
      "cell_type": "code",
      "source": [],
      "metadata": {
        "id": "0Sw3sd4IZIGW"
      },
      "execution_count": null,
      "outputs": []
    },
    {
      "cell_type": "markdown",
      "source": [
        "# 5. Envío promedio por tienda"
      ],
      "metadata": {
        "id": "Fl0cGi3bZKqU"
      }
    },
    {
      "cell_type": "code",
      "source": [
        "import matplotlib.pyplot as plt\n",
        "\n",
        "# Lista para almacenar los resultados\n",
        "costos_envio = []\n",
        "\n",
        "# Iterar sobre cada tienda y calcular promedio del costo de envío\n",
        "for nombre_tienda, url in urls_tiendas.items():\n",
        "    df = pd.read_csv(url)\n",
        "\n",
        "    # Aseguramos que no hayan valores nulos\n",
        "    promedio_envio = df['Costo de envío'].dropna().mean()\n",
        "\n",
        "    costos_envio.append({\n",
        "        'Tienda': nombre_tienda,\n",
        "        'Costo Envío Promedio': round(promedio_envio, 2)\n",
        "    })\n",
        "\n",
        "# Crear DataFrame con los resultados\n",
        "df_envio = pd.DataFrame(costos_envio).sort_values(by='Costo Envío Promedio', ascending=False)\n",
        "\n",
        "# Mostrar resultados\n",
        "print(df_envio)\n",
        "\n",
        "#gráfico\n",
        "plt.bar(df_envio['Tienda'], df_envio['Costo Envío Promedio'])\n",
        "plt.xlabel('Tienda')\n",
        "plt.ylabel('Costo Envío Promedio')\n",
        "plt.title('Costo de Envío Promedio por Tienda')\n",
        "plt.show()\n"
      ],
      "metadata": {
        "id": "S2JeaCykZNy9",
        "colab": {
          "base_uri": "https://localhost:8080/",
          "height": 559
        },
        "outputId": "db44d9d8-c835-4914-f52a-4138fd67f1e7"
      },
      "execution_count": null,
      "outputs": [
        {
          "output_type": "stream",
          "name": "stdout",
          "text": [
            "     Tienda  Costo Envío Promedio\n",
            "1  Tienda 2              25216.24\n",
            "2  Tienda 3              24805.68\n",
            "0  Tienda 1              23459.46\n",
            "3  Tienda 4              23459.46\n"
          ]
        },
        {
          "output_type": "display_data",
          "data": {
            "text/plain": [
              "<Figure size 640x480 with 1 Axes>"
            ],
            "image/png": "[encoded data removed]"
          },
          "metadata": {}
        }
      ]
    },
    {
      "cell_type": "code",
      "source": [],
      "metadata": {
        "id": "0tSdCie9ZQlt"
      },
      "execution_count": null,
      "outputs": []
    },
    {
      "cell_type": "code",
      "source": [],
      "metadata": {
        "id": "Dh0o2p0Eng8u"
      },
      "execution_count": null,
      "outputs": []
    },
    {
      "cell_type": "markdown",
      "source": [
        "**Informe Final**\n",
        "\n",
        "*El informe final de Analisis de tienda para decisión de venta.*\n",
        "\n",
        "**Introducción:** El objetivo de este análisis es ayudar al Sr. Juan a determinar cual de las cuatro tiendas es la mejor oportunidad de ventas. Para esto se proceso la información, llegando a los siguientes resultados:\n",
        "\n",
        "*Los ingresos totales de las tiendas:*\n",
        " Los datos son respecto a los valores de ventas. Según el gráfico de barra se puede evidenciar, que la tienda 1 tuvo el mayor ingreso total, seguido por la tienda 2.\n",
        "\n",
        "*Las categorías de productos más y menos vendidas:*\n",
        "Los productos más vendidos son de electrónica y electródomesticos, se realizaron las mejores ventas en la tiendas 2 seguida de la tienda 3. En el caso de la tienda 1 tuvo mejores ventas que la tienda 4, quedando ésta en el último lugar.\n",
        "Los productos menos vendidos fueron los articulos para el hogar y los libros. En el caso de los art. para el hogar, tuvo mejores ventas las tiendas 1 y 4 y en el caso de los libros se destaco la tienda 2, seguida de la tienda 3.\n",
        "\n",
        "*Las calificaciones promedio de los clientes por tienda:*\n",
        "Según el análisis, podemos confirmar que la mayor satisfacción de los clientes fueron en la tienda 3, y la tienda 2.\n",
        "La calificaciones mas baja las tiene las tienda 1.\n",
        "\n",
        "*Los productos más y menos vendidos.*\n",
        "Los productos más vendidos en la tienda 1 y la tienda 4 son los Iphone 15 y TV led UHD 4K. En el caso de estas tiendas los productos menos vendidos está el refrigerador  y en último lugar la Tablet.\n",
        "\n",
        "*El coste de envío promedio para cada tienda.*\n",
        "La tienda 2 tuvo el costo de envio mas alto.\n",
        "Las tiendas 1 y 4 mantuvieron el nivel más bajo del promedio.\n",
        "\n",
        "**Conclusión Final:**\n",
        "\n",
        "Se recomienda al Sr. Juan vender la Tienda la Tienda 4, esta decisión fue fundamentada bajolos sigientes aspectos claves:\n",
        "- Los ingresos totales son bajos\n",
        "- Posee ventas equilibradas, aunque la misma baja su productividad en las ventas de los productos de tecnología.\n",
        "- Posee un margen de ganancia mayor, ya que posee un costo de envio bajo.\n",
        "- La satisfacción de los clientes es baja.\n",
        "\n",
        "En el caso de la Tienda 1, apesar de que sus ingresos totales son altos, se recomienda evaluar la atiención al cliente y el servicio post venta.\n",
        "La Tienda 3: la satisfacción de los cliente es alta, pero inestable en las ventas.\n",
        "La tienda 2: posee un alto costo de envio, pero tiene buena respuestas de los clientes en satisfacción y ventas.\n",
        "\n",
        "*Recomendación estrategica vender la Tienda 4*\n",
        "\n",
        "\n"
      ],
      "metadata": {
        "id": "yZ_iKwLqj-NI"
      }
    }
  ]
}